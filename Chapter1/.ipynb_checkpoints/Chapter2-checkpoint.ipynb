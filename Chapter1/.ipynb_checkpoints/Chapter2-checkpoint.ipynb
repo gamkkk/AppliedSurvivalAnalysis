{
 "cells": [
  {
   "cell_type": "markdown",
   "metadata": {},
   "source": [
    "## Chapter2"
   ]
  },
  {
   "cell_type": "code",
   "execution_count": 136,
   "metadata": {},
   "outputs": [],
   "source": [
    "import os\n",
    "import numpy as np\n",
    "import pandas as pd\n",
    "from matplotlib import pyplot as plt\n",
    "import seaborn as sns\n",
    "from lifelines import KaplanMeierFitter"
   ]
  },
  {
   "cell_type": "code",
   "execution_count": 74,
   "metadata": {},
   "outputs": [],
   "source": [
    "DATADIR = '../datasets/'"
   ]
  },
  {
   "cell_type": "code",
   "execution_count": 75,
   "metadata": {},
   "outputs": [],
   "source": [
    "df = pd.read_csv(os.path.join(DATADIR, 'whas100.csv'), encoding='shift-jis', index_col=0)"
   ]
  },
  {
   "cell_type": "code",
   "execution_count": 93,
   "metadata": {},
   "outputs": [],
   "source": [
    "tmp_df = df.loc[[1, 56, 85, 98], ['追跡日数', '生存状態']]\n",
    "tmp_df.loc[3] =  [21, 0]\n",
    "tmp_df = tmp_df.sort_values(\"追跡日数\")\n",
    "tmp_df.index = pd.Series(range(1, 6), name=tmp_df.index.name)"
   ]
  },
  {
   "cell_type": "code",
   "execution_count": 94,
   "metadata": {
    "scrolled": true
   },
   "outputs": [
    {
     "data": {
      "text/html": [
       "<div>\n",
       "<style scoped>\n",
       "    .dataframe tbody tr th:only-of-type {\n",
       "        vertical-align: middle;\n",
       "    }\n",
       "\n",
       "    .dataframe tbody tr th {\n",
       "        vertical-align: top;\n",
       "    }\n",
       "\n",
       "    .dataframe thead th {\n",
       "        text-align: right;\n",
       "    }\n",
       "</style>\n",
       "<table border=\"1\" class=\"dataframe\">\n",
       "  <thead>\n",
       "    <tr style=\"text-align: right;\">\n",
       "      <th></th>\n",
       "      <th>追跡日数</th>\n",
       "      <th>生存状態</th>\n",
       "    </tr>\n",
       "    <tr>\n",
       "      <th>被験者番号</th>\n",
       "      <th></th>\n",
       "      <th></th>\n",
       "    </tr>\n",
       "  </thead>\n",
       "  <tbody>\n",
       "    <tr>\n",
       "      <th>1</th>\n",
       "      <td>6</td>\n",
       "      <td>1</td>\n",
       "    </tr>\n",
       "    <tr>\n",
       "      <th>2</th>\n",
       "      <td>14</td>\n",
       "      <td>1</td>\n",
       "    </tr>\n",
       "    <tr>\n",
       "      <th>3</th>\n",
       "      <td>21</td>\n",
       "      <td>0</td>\n",
       "    </tr>\n",
       "    <tr>\n",
       "      <th>4</th>\n",
       "      <td>44</td>\n",
       "      <td>1</td>\n",
       "    </tr>\n",
       "    <tr>\n",
       "      <th>5</th>\n",
       "      <td>62</td>\n",
       "      <td>1</td>\n",
       "    </tr>\n",
       "  </tbody>\n",
       "</table>\n",
       "</div>"
      ],
      "text/plain": [
       "       追跡日数  生存状態\n",
       "被験者番号            \n",
       "1         6     1\n",
       "2        14     1\n",
       "3        21     0\n",
       "4        44     1\n",
       "5        62     1"
      ]
     },
     "execution_count": 94,
     "metadata": {},
     "output_type": "execute_result"
    }
   ],
   "source": [
    "tmp_df"
   ]
  },
  {
   "cell_type": "code",
   "execution_count": 339,
   "metadata": {},
   "outputs": [
    {
     "data": {
      "image/png": "[encoded data removed]",
      "text/plain": [
       "<Figure size 432x288 with 1 Axes>"
      ]
     },
     "metadata": {
      "needs_background": "light"
     },
     "output_type": "display_data"
    }
   ],
   "source": [
    "kmf = KaplanMeierFitter()\n",
    "kmf.fit(tmp_df['追跡日数'], event_observed=tmp_df['生存状態'])\n",
    "kmf.plot_survival_function(ci_show=False)\n",
    "plt.xlabel('timeline(days)')\n",
    "plt.ylabel('$S(t)$')\n",
    "plt.title('Survival function');"
   ]
  },
  {
   "cell_type": "code",
   "execution_count": 150,
   "metadata": {},
   "outputs": [
    {
     "data": {
      "text/plain": [
       "array([   0,    6,   14,   44,   62,   89,   98,  104,  107,  114,  123,\n",
       "        128,  148,  182,  187,  189,  274,  302,  363,  374,  451,  461,\n",
       "        492,  538,  774,  841,  936, 1002, 1011, 1048, 1054, 1172, 1205,\n",
       "       1278, 1401, 1497, 1557, 1577, 1624, 1669, 1806, 1836, 1846, 1859,\n",
       "       1860, 1870, 1874, 1876, 1879, 1883, 1889, 1907, 1912, 1916, 1922,\n",
       "       1923, 1929, 1934, 1939, 1969, 1984, 1993, 2003, 2012, 2013, 2031,\n",
       "       2052, 2054, 2061, 2065, 2072, 2074, 2084, 2114, 2124, 2137, 2145,\n",
       "       2157, 2173, 2174, 2183, 2190, 2201, 2421, 2573, 2574, 2578, 2595,\n",
       "       2610, 2613, 2624, 2631, 2638, 2641, 2710, 2719])"
      ]
     },
     "execution_count": 150,
     "metadata": {},
     "output_type": "execute_result"
    }
   ],
   "source": [
    "bins"
   ]
  },
  {
   "cell_type": "code",
   "execution_count": 151,
   "metadata": {},
   "outputs": [
    {
     "data": {
      "text/plain": [
       "被験者番号\n",
       "1        6\n",
       "31       6\n",
       "56      14\n",
       "85      44\n",
       "98      62\n",
       "      ... \n",
       "27    2631\n",
       "11    2638\n",
       "16    2641\n",
       "33    2710\n",
       "10    2719\n",
       "Name: 追跡日数, Length: 100, dtype: int64"
      ]
     },
     "execution_count": 151,
     "metadata": {},
     "output_type": "execute_result"
    }
   ],
   "source": [
    "df_['追跡日数']"
   ]
  },
  {
   "cell_type": "code",
   "execution_count": 164,
   "metadata": {
    "scrolled": true
   },
   "outputs": [
    {
     "data": {
      "text/plain": [
       "被験者番号\n",
       "1          [6.0, 14.0)\n",
       "31         [6.0, 14.0)\n",
       "56        [14.0, 44.0)\n",
       "85        [44.0, 62.0)\n",
       "98        [62.0, 89.0)\n",
       "            ...       \n",
       "27    [2631.0, 2638.0)\n",
       "11    [2638.0, 2641.0)\n",
       "16    [2641.0, 2710.0)\n",
       "33    [2710.0, 2719.0)\n",
       "10                 NaN\n",
       "Name: 追跡日数, Length: 100, dtype: category\n",
       "Categories (94, interval[int64]): [[6, 14) < [14, 44) < [44, 62) < [62, 89) ... [2631, 2638) < [2638, 2641) < [2641, 2710) < [2710, 2719)]"
      ]
     },
     "execution_count": 164,
     "metadata": {},
     "output_type": "execute_result"
    }
   ],
   "source": [
    "passed_dates = df.sort_values('追跡日数')['追跡日数']\n",
    "bins = passed_dates.unique()\n",
    "pd.cut(passed_dates, bins=bins, right=False, include_lowest=True)"
   ]
  },
  {
   "cell_type": "code",
   "execution_count": 202,
   "metadata": {},
   "outputs": [],
   "source": [
    "def _group_event_table_by_intervals(event_table, intervals) -> pd.DataFrame:\n",
    "    event_table = event_table.reset_index()\n",
    "\n",
    "    # use Freedman-Diaconis rule to determine bin size if user doesn't define intervals\n",
    "    if intervals is None:\n",
    "        event_max = event_table[\"event_at\"].max()\n",
    "\n",
    "        # need interquartile range for bin width\n",
    "        q75, q25 = np.percentile(event_table[\"event_at\"], [75, 25])\n",
    "        event_iqr = q75 - q25\n",
    "\n",
    "        bin_width = 2 * event_iqr * (len(event_table[\"event_at\"]) ** (-1 / 3))\n",
    "\n",
    "        intervals = np.arange(0, event_max + bin_width, bin_width)\n",
    "\n",
    "    event_table = event_table.groupby(pd.cut(event_table[\"event_at\"], intervals, include_lowest=True)).agg(\n",
    "        {\"removed\": [\"sum\"], \"observed\": [\"sum\"], \"censored\": [\"sum\"], \"at_risk\": [\"max\"]}\n",
    "    )\n",
    "    # convert columns from multiindex\n",
    "    event_table.columns = event_table.columns.droplevel(1)\n",
    "    return event_table.bfill()\n"
   ]
  },
  {
   "cell_type": "code",
   "execution_count": 280,
   "metadata": {},
   "outputs": [],
   "source": [
    "def survival_table_from_events(\n",
    "    death_times,\n",
    "    event_observed,\n",
    "    birth_times=None,\n",
    "    columns=[\"removed\", \"observed\", \"censored\", \"entrance\", \"at_risk\"],\n",
    "    weights=None,\n",
    "    collapse=False,\n",
    "    intervals=None,\n",
    ") -> pd.DataFrame:  # pylint: disable=dangerous-default-value,too-many-locals\n",
    "    \"\"\"\n",
    "    Create a survival table from right-censored dataset.\n",
    "    Parameters\n",
    "    ----------\n",
    "    death_times: (n,) array\n",
    "      represent the event times\n",
    "    event_observed: (n,) array\n",
    "      1 if observed event, 0 is censored event.\n",
    "    birth_times: a (n,) array, optional\n",
    "      representing when the subject was first observed. A subject's death event is then at [birth times + duration observed].\n",
    "      If None (default), birth_times are set to be the first observation or 0, which ever is smaller.\n",
    "    columns: iterable, optional\n",
    "      a 3-length array to call the, in order, removed individuals, observed deaths\n",
    "      and censorships.\n",
    "    weights: (n,1) array, optional\n",
    "      Optional argument to use weights for individuals. Assumes weights of 1 if not provided.\n",
    "    collapse: bool, optional (default=False)\n",
    "      If True, collapses survival table into lifetable to show events in interval bins\n",
    "    intervals: iterable, optional\n",
    "      Default None, otherwise a list/(n,1) array of interval edge measures. If left as None\n",
    "      while collapse=True, then Freedman-Diaconis rule for histogram bins will be used to determine intervals.\n",
    "    Returns\n",
    "    -------\n",
    "    DataFrame\n",
    "      Pandas DataFrame with index as the unique times or intervals in event_times. The columns named\n",
    "      'removed' refers to the number of individuals who were removed from the population\n",
    "      by the end of the period. The column 'observed' refers to the number of removed\n",
    "      individuals who were observed to have died (i.e. not censored.) The column\n",
    "      'censored' is defined as 'removed' - 'observed' (the number of individuals who\n",
    "      left the population due to event_observed)\n",
    "    Example\n",
    "    -------\n",
    "    .. code:: python\n",
    "        #Uncollapsed output\n",
    "                  removed  observed  censored  entrance   at_risk\n",
    "        event_at\n",
    "        0               0         0         0        11        11\n",
    "        6               1         1         0         0        11\n",
    "        7               2         2         0         0        10\n",
    "        9               3         3         0         0         8\n",
    "        13              3         3         0         0         5\n",
    "        15              2         2         0         0         2\n",
    "        #Collapsed output\n",
    "                 removed observed censored at_risk\n",
    "        event_at\n",
    "        (0, 2]        34       33        1     312\n",
    "        (2, 4]        84       42       42     278\n",
    "        (4, 6]        64       17       47     194\n",
    "        (6, 8]        63       16       47     130\n",
    "        (8, 10]       35       12       23      67\n",
    "        (10, 12]      24        5       19      32\n",
    "    See Also\n",
    "    --------\n",
    "    group_survival_table_from_events\n",
    "    \"\"\"\n",
    "    removed, observed, censored, entrance, at_risk = columns\n",
    "    death_times = np.asarray(death_times)\n",
    "    if birth_times is None:\n",
    "        birth_times = min(0, death_times.min()) * np.ones(death_times.shape[0])\n",
    "    else:\n",
    "        birth_times = np.asarray(birth_times)\n",
    "        if np.any(birth_times > death_times):\n",
    "            raise ValueError(\"birth time must be less than time of death.\")\n",
    "\n",
    "    if weights is None:\n",
    "        weights = 1\n",
    "\n",
    "    # deal with deaths and censorships\n",
    "    df = pd.DataFrame(death_times, columns=[\"event_at\"])\n",
    "    df[removed] = np.asarray(weights)\n",
    "    df[observed] = np.asarray(weights) * (np.asarray(event_observed).astype(bool))\n",
    "    death_table = df.groupby(\"event_at\").sum()\n",
    "    death_table[censored] = (death_table[removed] - death_table[observed]).astype(int)\n",
    "\n",
    "    # deal with late births\n",
    "    births = pd.DataFrame(birth_times, columns=[\"event_at\"])\n",
    "    births[entrance] = np.asarray(weights)\n",
    "    births_table = births.groupby(\"event_at\").sum()\n",
    "    event_table = death_table.join(births_table, how=\"outer\", sort=True).fillna(0)  # http://wesmckinney.com/blog/?p=414\n",
    "    event_table[at_risk] = event_table[entrance].cumsum() - event_table[removed].cumsum().shift(1).fillna(0)\n",
    "\n",
    "    # group by intervals\n",
    "    if (collapse) or (intervals is not None):\n",
    "        event_table = _group_event_table_by_intervals(event_table, intervals)\n",
    "\n",
    "    if (np.asarray(weights).astype(int) != weights).any():\n",
    "        return event_table.astype(float)\n",
    "    return event_table.astype(int)"
   ]
  },
  {
   "cell_type": "code",
   "execution_count": 281,
   "metadata": {},
   "outputs": [
    {
     "data": {
      "text/html": [
       "<div>\n",
       "<style scoped>\n",
       "    .dataframe tbody tr th:only-of-type {\n",
       "        vertical-align: middle;\n",
       "    }\n",
       "\n",
       "    .dataframe tbody tr th {\n",
       "        vertical-align: top;\n",
       "    }\n",
       "\n",
       "    .dataframe thead th {\n",
       "        text-align: right;\n",
       "    }\n",
       "</style>\n",
       "<table border=\"1\" class=\"dataframe\">\n",
       "  <thead>\n",
       "    <tr style=\"text-align: right;\">\n",
       "      <th></th>\n",
       "      <th>removed</th>\n",
       "      <th>observed</th>\n",
       "      <th>censored</th>\n",
       "      <th>entrance</th>\n",
       "      <th>at_risk</th>\n",
       "    </tr>\n",
       "    <tr>\n",
       "      <th>event_at</th>\n",
       "      <th></th>\n",
       "      <th></th>\n",
       "      <th></th>\n",
       "      <th></th>\n",
       "      <th></th>\n",
       "    </tr>\n",
       "  </thead>\n",
       "  <tbody>\n",
       "    <tr>\n",
       "      <th>0.0</th>\n",
       "      <td>0</td>\n",
       "      <td>0</td>\n",
       "      <td>0</td>\n",
       "      <td>100</td>\n",
       "      <td>100</td>\n",
       "    </tr>\n",
       "    <tr>\n",
       "      <th>6.0</th>\n",
       "      <td>2</td>\n",
       "      <td>2</td>\n",
       "      <td>0</td>\n",
       "      <td>0</td>\n",
       "      <td>100</td>\n",
       "    </tr>\n",
       "    <tr>\n",
       "      <th>14.0</th>\n",
       "      <td>1</td>\n",
       "      <td>1</td>\n",
       "      <td>0</td>\n",
       "      <td>0</td>\n",
       "      <td>98</td>\n",
       "    </tr>\n",
       "    <tr>\n",
       "      <th>44.0</th>\n",
       "      <td>1</td>\n",
       "      <td>1</td>\n",
       "      <td>0</td>\n",
       "      <td>0</td>\n",
       "      <td>97</td>\n",
       "    </tr>\n",
       "    <tr>\n",
       "      <th>62.0</th>\n",
       "      <td>1</td>\n",
       "      <td>1</td>\n",
       "      <td>0</td>\n",
       "      <td>0</td>\n",
       "      <td>96</td>\n",
       "    </tr>\n",
       "    <tr>\n",
       "      <th>...</th>\n",
       "      <td>...</td>\n",
       "      <td>...</td>\n",
       "      <td>...</td>\n",
       "      <td>...</td>\n",
       "      <td>...</td>\n",
       "    </tr>\n",
       "    <tr>\n",
       "      <th>2631.0</th>\n",
       "      <td>1</td>\n",
       "      <td>0</td>\n",
       "      <td>1</td>\n",
       "      <td>0</td>\n",
       "      <td>5</td>\n",
       "    </tr>\n",
       "    <tr>\n",
       "      <th>2638.0</th>\n",
       "      <td>1</td>\n",
       "      <td>0</td>\n",
       "      <td>1</td>\n",
       "      <td>0</td>\n",
       "      <td>4</td>\n",
       "    </tr>\n",
       "    <tr>\n",
       "      <th>2641.0</th>\n",
       "      <td>1</td>\n",
       "      <td>0</td>\n",
       "      <td>1</td>\n",
       "      <td>0</td>\n",
       "      <td>3</td>\n",
       "    </tr>\n",
       "    <tr>\n",
       "      <th>2710.0</th>\n",
       "      <td>1</td>\n",
       "      <td>1</td>\n",
       "      <td>0</td>\n",
       "      <td>0</td>\n",
       "      <td>2</td>\n",
       "    </tr>\n",
       "    <tr>\n",
       "      <th>2719.0</th>\n",
       "      <td>1</td>\n",
       "      <td>0</td>\n",
       "      <td>1</td>\n",
       "      <td>0</td>\n",
       "      <td>1</td>\n",
       "    </tr>\n",
       "  </tbody>\n",
       "</table>\n",
       "<p>96 rows × 5 columns</p>\n",
       "</div>"
      ],
      "text/plain": [
       "          removed  observed  censored  entrance  at_risk\n",
       "event_at                                                \n",
       "0.0             0         0         0       100      100\n",
       "6.0             2         2         0         0      100\n",
       "14.0            1         1         0         0       98\n",
       "44.0            1         1         0         0       97\n",
       "62.0            1         1         0         0       96\n",
       "...           ...       ...       ...       ...      ...\n",
       "2631.0          1         0         1         0        5\n",
       "2638.0          1         0         1         0        4\n",
       "2641.0          1         0         1         0        3\n",
       "2710.0          1         1         0         0        2\n",
       "2719.0          1         0         1         0        1\n",
       "\n",
       "[96 rows x 5 columns]"
      ]
     },
     "execution_count": 281,
     "metadata": {},
     "output_type": "execute_result"
    }
   ],
   "source": [
    "durations = df['追跡日数']\n",
    "event_observed = df['生存状態']\n",
    "n = len(durations)\n",
    "durations = np.asarray(durations).reshape((n,))\n",
    "event_observed = np.asarray(event_observed).reshape((n,)).astype(int)\n",
    "event_table = survival_table_from_events(df['追跡日数'], event_observed=event_observed)\n",
    "timeline = event_table.index.values\n",
    "event_table"
   ]
  },
  {
   "cell_type": "code",
   "execution_count": 282,
   "metadata": {},
   "outputs": [],
   "source": [
    "event_table_km = event_table.copy()\n",
    "event_table_km['n'] = 100 - event_table_km['removed'].shift(1, fill_value=0).cumsum()\n",
    "event_table_km['(n-d)/n'] = (event_table_km['n'] - event_table_km['observed']) / event_table_km['n']\n",
    "event_table_km['S_t'] = event_table_km['(n-d)/n'].cumprod()"
   ]
  },
  {
   "cell_type": "code",
   "execution_count": 283,
   "metadata": {},
   "outputs": [
    {
     "data": {
      "text/html": [
       "<div>\n",
       "<style scoped>\n",
       "    .dataframe tbody tr th:only-of-type {\n",
       "        vertical-align: middle;\n",
       "    }\n",
       "\n",
       "    .dataframe tbody tr th {\n",
       "        vertical-align: top;\n",
       "    }\n",
       "\n",
       "    .dataframe thead th {\n",
       "        text-align: right;\n",
       "    }\n",
       "</style>\n",
       "<table border=\"1\" class=\"dataframe\">\n",
       "  <thead>\n",
       "    <tr style=\"text-align: right;\">\n",
       "      <th></th>\n",
       "      <th>removed</th>\n",
       "      <th>observed</th>\n",
       "      <th>censored</th>\n",
       "      <th>entrance</th>\n",
       "      <th>at_risk</th>\n",
       "      <th>n</th>\n",
       "      <th>(n-d)/n</th>\n",
       "      <th>S_t</th>\n",
       "    </tr>\n",
       "    <tr>\n",
       "      <th>event_at</th>\n",
       "      <th></th>\n",
       "      <th></th>\n",
       "      <th></th>\n",
       "      <th></th>\n",
       "      <th></th>\n",
       "      <th></th>\n",
       "      <th></th>\n",
       "      <th></th>\n",
       "    </tr>\n",
       "  </thead>\n",
       "  <tbody>\n",
       "    <tr>\n",
       "      <th>0.0</th>\n",
       "      <td>0</td>\n",
       "      <td>0</td>\n",
       "      <td>0</td>\n",
       "      <td>100</td>\n",
       "      <td>100</td>\n",
       "      <td>100</td>\n",
       "      <td>1.000000</td>\n",
       "      <td>1.000000</td>\n",
       "    </tr>\n",
       "    <tr>\n",
       "      <th>6.0</th>\n",
       "      <td>2</td>\n",
       "      <td>2</td>\n",
       "      <td>0</td>\n",
       "      <td>0</td>\n",
       "      <td>100</td>\n",
       "      <td>100</td>\n",
       "      <td>0.980000</td>\n",
       "      <td>0.980000</td>\n",
       "    </tr>\n",
       "    <tr>\n",
       "      <th>14.0</th>\n",
       "      <td>1</td>\n",
       "      <td>1</td>\n",
       "      <td>0</td>\n",
       "      <td>0</td>\n",
       "      <td>98</td>\n",
       "      <td>98</td>\n",
       "      <td>0.989796</td>\n",
       "      <td>0.970000</td>\n",
       "    </tr>\n",
       "    <tr>\n",
       "      <th>44.0</th>\n",
       "      <td>1</td>\n",
       "      <td>1</td>\n",
       "      <td>0</td>\n",
       "      <td>0</td>\n",
       "      <td>97</td>\n",
       "      <td>97</td>\n",
       "      <td>0.989691</td>\n",
       "      <td>0.960000</td>\n",
       "    </tr>\n",
       "    <tr>\n",
       "      <th>62.0</th>\n",
       "      <td>1</td>\n",
       "      <td>1</td>\n",
       "      <td>0</td>\n",
       "      <td>0</td>\n",
       "      <td>96</td>\n",
       "      <td>96</td>\n",
       "      <td>0.989583</td>\n",
       "      <td>0.950000</td>\n",
       "    </tr>\n",
       "    <tr>\n",
       "      <th>...</th>\n",
       "      <td>...</td>\n",
       "      <td>...</td>\n",
       "      <td>...</td>\n",
       "      <td>...</td>\n",
       "      <td>...</td>\n",
       "      <td>...</td>\n",
       "      <td>...</td>\n",
       "      <td>...</td>\n",
       "    </tr>\n",
       "    <tr>\n",
       "      <th>2631.0</th>\n",
       "      <td>1</td>\n",
       "      <td>0</td>\n",
       "      <td>1</td>\n",
       "      <td>0</td>\n",
       "      <td>5</td>\n",
       "      <td>5</td>\n",
       "      <td>1.000000</td>\n",
       "      <td>0.360561</td>\n",
       "    </tr>\n",
       "    <tr>\n",
       "      <th>2638.0</th>\n",
       "      <td>1</td>\n",
       "      <td>0</td>\n",
       "      <td>1</td>\n",
       "      <td>0</td>\n",
       "      <td>4</td>\n",
       "      <td>4</td>\n",
       "      <td>1.000000</td>\n",
       "      <td>0.360561</td>\n",
       "    </tr>\n",
       "    <tr>\n",
       "      <th>2641.0</th>\n",
       "      <td>1</td>\n",
       "      <td>0</td>\n",
       "      <td>1</td>\n",
       "      <td>0</td>\n",
       "      <td>3</td>\n",
       "      <td>3</td>\n",
       "      <td>1.000000</td>\n",
       "      <td>0.360561</td>\n",
       "    </tr>\n",
       "    <tr>\n",
       "      <th>2710.0</th>\n",
       "      <td>1</td>\n",
       "      <td>1</td>\n",
       "      <td>0</td>\n",
       "      <td>0</td>\n",
       "      <td>2</td>\n",
       "      <td>2</td>\n",
       "      <td>0.500000</td>\n",
       "      <td>0.180281</td>\n",
       "    </tr>\n",
       "    <tr>\n",
       "      <th>2719.0</th>\n",
       "      <td>1</td>\n",
       "      <td>0</td>\n",
       "      <td>1</td>\n",
       "      <td>0</td>\n",
       "      <td>1</td>\n",
       "      <td>1</td>\n",
       "      <td>1.000000</td>\n",
       "      <td>0.180281</td>\n",
       "    </tr>\n",
       "  </tbody>\n",
       "</table>\n",
       "<p>96 rows × 8 columns</p>\n",
       "</div>"
      ],
      "text/plain": [
       "          removed  observed  censored  entrance  at_risk    n   (n-d)/n  \\\n",
       "event_at                                                                  \n",
       "0.0             0         0         0       100      100  100  1.000000   \n",
       "6.0             2         2         0         0      100  100  0.980000   \n",
       "14.0            1         1         0         0       98   98  0.989796   \n",
       "44.0            1         1         0         0       97   97  0.989691   \n",
       "62.0            1         1         0         0       96   96  0.989583   \n",
       "...           ...       ...       ...       ...      ...  ...       ...   \n",
       "2631.0          1         0         1         0        5    5  1.000000   \n",
       "2638.0          1         0         1         0        4    4  1.000000   \n",
       "2641.0          1         0         1         0        3    3  1.000000   \n",
       "2710.0          1         1         0         0        2    2  0.500000   \n",
       "2719.0          1         0         1         0        1    1  1.000000   \n",
       "\n",
       "               S_t  \n",
       "event_at            \n",
       "0.0       1.000000  \n",
       "6.0       0.980000  \n",
       "14.0      0.970000  \n",
       "44.0      0.960000  \n",
       "62.0      0.950000  \n",
       "...            ...  \n",
       "2631.0    0.360561  \n",
       "2638.0    0.360561  \n",
       "2641.0    0.360561  \n",
       "2710.0    0.180281  \n",
       "2719.0    0.180281  \n",
       "\n",
       "[96 rows x 8 columns]"
      ]
     },
     "execution_count": 283,
     "metadata": {},
     "output_type": "execute_result"
    }
   ],
   "source": [
    "event_table_km"
   ]
  },
  {
   "cell_type": "code",
   "execution_count": 284,
   "metadata": {},
   "outputs": [
    {
     "data": {
      "text/plain": [
       "Float64Index([   0.0,    6.0,   14.0,   44.0,   62.0,   89.0,   98.0,  104.0,\n",
       "               107.0,  114.0,  123.0,  128.0,  148.0,  182.0,  187.0,  189.0,\n",
       "               274.0,  302.0,  363.0,  374.0,  451.0,  461.0,  492.0,  538.0,\n",
       "               774.0,  841.0,  936.0, 1002.0, 1011.0, 1048.0, 1054.0, 1172.0,\n",
       "              1205.0, 1278.0, 1401.0, 1497.0, 1557.0, 1577.0, 1624.0, 1669.0,\n",
       "              1806.0, 1836.0, 1846.0, 1859.0, 1860.0, 1870.0, 1874.0, 1876.0,\n",
       "              1879.0, 1883.0, 1889.0, 1907.0, 1912.0, 1916.0, 1922.0, 1923.0,\n",
       "              1929.0, 1934.0, 1939.0, 1969.0, 1984.0, 1993.0, 2003.0, 2012.0,\n",
       "              2013.0, 2031.0, 2052.0, 2054.0, 2061.0, 2065.0, 2072.0, 2074.0,\n",
       "              2084.0, 2114.0, 2124.0, 2137.0, 2145.0, 2157.0, 2173.0, 2174.0,\n",
       "              2183.0, 2190.0, 2201.0, 2421.0, 2573.0, 2574.0, 2578.0, 2595.0,\n",
       "              2610.0, 2613.0, 2624.0, 2631.0, 2638.0, 2641.0, 2710.0, 2719.0],\n",
       "             dtype='float64', name='event_at')"
      ]
     },
     "execution_count": 284,
     "metadata": {},
     "output_type": "execute_result"
    }
   ],
   "source": [
    "event_table.index"
   ]
  },
  {
   "cell_type": "code",
   "execution_count": 298,
   "metadata": {},
   "outputs": [
    {
     "data": {
      "text/html": [
       "<div>\n",
       "<style scoped>\n",
       "    .dataframe tbody tr th:only-of-type {\n",
       "        vertical-align: middle;\n",
       "    }\n",
       "\n",
       "    .dataframe tbody tr th {\n",
       "        vertical-align: top;\n",
       "    }\n",
       "\n",
       "    .dataframe thead th {\n",
       "        text-align: right;\n",
       "    }\n",
       "</style>\n",
       "<table border=\"1\" class=\"dataframe\">\n",
       "  <thead>\n",
       "    <tr style=\"text-align: right;\">\n",
       "      <th></th>\n",
       "      <th>removed</th>\n",
       "      <th>observed</th>\n",
       "      <th>censored</th>\n",
       "      <th>entrance</th>\n",
       "      <th>at_risk</th>\n",
       "      <th>n</th>\n",
       "      <th>(n-c/2-d)/(n-c/2)</th>\n",
       "      <th>S_t</th>\n",
       "    </tr>\n",
       "    <tr>\n",
       "      <th>event_at_y</th>\n",
       "      <th></th>\n",
       "      <th></th>\n",
       "      <th></th>\n",
       "      <th></th>\n",
       "      <th></th>\n",
       "      <th></th>\n",
       "      <th></th>\n",
       "      <th></th>\n",
       "    </tr>\n",
       "  </thead>\n",
       "  <tbody>\n",
       "    <tr>\n",
       "      <th>[0, 1)</th>\n",
       "      <td>20</td>\n",
       "      <td>20</td>\n",
       "      <td>0</td>\n",
       "      <td>100</td>\n",
       "      <td>1728</td>\n",
       "      <td>100</td>\n",
       "      <td>0.800000</td>\n",
       "      <td>0.800000</td>\n",
       "    </tr>\n",
       "    <tr>\n",
       "      <th>[1, 2)</th>\n",
       "      <td>5</td>\n",
       "      <td>5</td>\n",
       "      <td>0</td>\n",
       "      <td>0</td>\n",
       "      <td>390</td>\n",
       "      <td>80</td>\n",
       "      <td>0.937500</td>\n",
       "      <td>0.750000</td>\n",
       "    </tr>\n",
       "    <tr>\n",
       "      <th>[2, 3)</th>\n",
       "      <td>7</td>\n",
       "      <td>7</td>\n",
       "      <td>0</td>\n",
       "      <td>0</td>\n",
       "      <td>504</td>\n",
       "      <td>75</td>\n",
       "      <td>0.906667</td>\n",
       "      <td>0.680000</td>\n",
       "    </tr>\n",
       "    <tr>\n",
       "      <th>[3, 4)</th>\n",
       "      <td>4</td>\n",
       "      <td>4</td>\n",
       "      <td>0</td>\n",
       "      <td>0</td>\n",
       "      <td>266</td>\n",
       "      <td>68</td>\n",
       "      <td>0.941176</td>\n",
       "      <td>0.640000</td>\n",
       "    </tr>\n",
       "    <tr>\n",
       "      <th>[4, 5)</th>\n",
       "      <td>6</td>\n",
       "      <td>6</td>\n",
       "      <td>0</td>\n",
       "      <td>0</td>\n",
       "      <td>369</td>\n",
       "      <td>64</td>\n",
       "      <td>0.906250</td>\n",
       "      <td>0.580000</td>\n",
       "    </tr>\n",
       "    <tr>\n",
       "      <th>[5, 6)</th>\n",
       "      <td>43</td>\n",
       "      <td>5</td>\n",
       "      <td>38</td>\n",
       "      <td>0</td>\n",
       "      <td>1474</td>\n",
       "      <td>58</td>\n",
       "      <td>0.871795</td>\n",
       "      <td>0.505641</td>\n",
       "    </tr>\n",
       "    <tr>\n",
       "      <th>[6, 7)</th>\n",
       "      <td>3</td>\n",
       "      <td>2</td>\n",
       "      <td>1</td>\n",
       "      <td>0</td>\n",
       "      <td>42</td>\n",
       "      <td>15</td>\n",
       "      <td>0.862069</td>\n",
       "      <td>0.435897</td>\n",
       "    </tr>\n",
       "    <tr>\n",
       "      <th>[7, 8)</th>\n",
       "      <td>12</td>\n",
       "      <td>2</td>\n",
       "      <td>10</td>\n",
       "      <td>0</td>\n",
       "      <td>78</td>\n",
       "      <td>12</td>\n",
       "      <td>0.714286</td>\n",
       "      <td>0.311355</td>\n",
       "    </tr>\n",
       "  </tbody>\n",
       "</table>\n",
       "</div>"
      ],
      "text/plain": [
       "            removed  observed  censored  entrance  at_risk    n  \\\n",
       "event_at_y                                                        \n",
       "[0, 1)           20        20         0       100     1728  100   \n",
       "[1, 2)            5         5         0         0      390   80   \n",
       "[2, 3)            7         7         0         0      504   75   \n",
       "[3, 4)            4         4         0         0      266   68   \n",
       "[4, 5)            6         6         0         0      369   64   \n",
       "[5, 6)           43         5        38         0     1474   58   \n",
       "[6, 7)            3         2         1         0       42   15   \n",
       "[7, 8)           12         2        10         0       78   12   \n",
       "\n",
       "            (n-c/2-d)/(n-c/2)       S_t  \n",
       "event_at_y                               \n",
       "[0, 1)               0.800000  0.800000  \n",
       "[1, 2)               0.937500  0.750000  \n",
       "[2, 3)               0.906667  0.680000  \n",
       "[3, 4)               0.941176  0.640000  \n",
       "[4, 5)               0.906250  0.580000  \n",
       "[5, 6)               0.871795  0.505641  \n",
       "[6, 7)               0.862069  0.435897  \n",
       "[7, 8)               0.714286  0.311355  "
      ]
     },
     "execution_count": 298,
     "metadata": {},
     "output_type": "execute_result"
    }
   ],
   "source": [
    "event_table_lt = event_table.copy()\n",
    "event_table_lt['event_at_y'] = pd.cut(event_table_lt.index/365, np.arange(0, 9), right=False, include_lowest=True)\n",
    "event_table_lt = event_table_lt.groupby('event_at_y').sum()\n",
    "event_table_lt['n'] = 100 - event_table_lt['removed'].shift(1, fill_value=0).cumsum()\n",
    "event_table_lt['(n-c/2-d)/(n-c/2)'] = (event_table_lt['n'] - event_table_lt['censored']/2 - event_table_lt['observed']) / (event_table_lt['n'] - event_table_lt['censored']/2)\n",
    "event_table_lt['S_t'] = event_table_lt['(n-c/2-d)/(n-c/2)'].cumprod()\n",
    "event_table_lt"
   ]
  },
  {
   "cell_type": "code",
   "execution_count": 313,
   "metadata": {},
   "outputs": [
    {
     "data": {
      "text/plain": [
       "array([1.        , 0.8       , 0.75      , 0.68      , 0.64      ,\n",
       "       0.58      , 0.50564103, 0.43589744, 0.31135531])"
      ]
     },
     "execution_count": 313,
     "metadata": {},
     "output_type": "execute_result"
    }
   ],
   "source": []
  },
  {
   "cell_type": "code",
   "execution_count": 396,
   "metadata": {},
   "outputs": [
    {
     "data": {
      "image/png": "[encoded data removed]",
      "text/plain": [
       "<Figure size 432x288 with 1 Axes>"
      ]
     },
     "metadata": {
      "needs_background": "light"
     },
     "output_type": "display_data"
    }
   ],
   "source": [
    "plt.xlabel('timeline(year)')\n",
    "plt.ylabel('$S(t)$')\n",
    "plt.ylim(0, 1.05)\n",
    "plt.step([0] + [i.right for i in event_table_lt.index], np.insert(event_table_lt['S_t'].values, 0, 1.0), label='LT_estimate', where='post',)\n",
    "plt.legend()\n",
    "plt.title('Survival function');"
   ]
  },
  {
   "cell_type": "code",
   "execution_count": 368,
   "metadata": {},
   "outputs": [
    {
     "data": {
      "image/png": "[encoded data removed]",
      "text/plain": [
       "<Figure size 432x288 with 1 Axes>"
      ]
     },
     "metadata": {
      "needs_background": "light"
     },
     "output_type": "display_data"
    }
   ],
   "source": [
    "plt.xlabel('timeline(year)')\n",
    "plt.ylabel('$S(t)$')\n",
    "plt.ylim(0, 1.05)\n",
    "plt.plot([0] + [i.right for i in event_table_lt.index], np.insert(event_table_lt['S_t'].values, 0, 1.0), marker='.', label='LT_estimate')\n",
    "plt.legend()\n",
    "plt.title('Survival function (line)');"
   ]
  },
  {
   "cell_type": "code",
   "execution_count": 342,
   "metadata": {
    "scrolled": true
   },
   "outputs": [
    {
     "data": {
      "image/png": "[encoded data removed]",
      "text/plain": [
       "<Figure size 432x288 with 1 Axes>"
      ]
     },
     "metadata": {
      "needs_background": "light"
     },
     "output_type": "display_data"
    }
   ],
   "source": [
    "kmf = KaplanMeierFitter()\n",
    "kmf.fit(df['追跡日数'], event_observed=df['生存状態'])\n",
    "kmf.plot_survival_function(ci_show=False)\n",
    "plt.ylabel('$S(t)$')\n",
    "plt.ylim(0, 1.05)\n",
    "plt.xlabel('timeline(days)')\n",
    "plt.title('Survival function');"
   ]
  },
  {
   "cell_type": "code",
   "execution_count": 180,
   "metadata": {},
   "outputs": [
    {
     "data": {
      "text/plain": [
       "array([   0.,    6.,   14.,   44.,   62.,   89.,   98.,  104.,  107.,\n",
       "        114.,  123.,  128.,  148.,  182.,  187.,  189.,  274.,  302.,\n",
       "        363.,  374.,  451.,  461.,  492.,  538.,  774.,  841.,  936.,\n",
       "       1002., 1011., 1048., 1054., 1172., 1205., 1278., 1401., 1497.,\n",
       "       1557., 1577., 1624., 1669., 1806., 1836., 1846., 1859., 1860.,\n",
       "       1870., 1874., 1876., 1879., 1883., 1889., 1907., 1912., 1916.,\n",
       "       1922., 1923., 1929., 1934., 1939., 1969., 1984., 1993., 2003.,\n",
       "       2012., 2013., 2031., 2052., 2054., 2061., 2065., 2072., 2074.,\n",
       "       2084., 2114., 2124., 2137., 2145., 2157., 2173., 2174., 2183.,\n",
       "       2190., 2201., 2421., 2573., 2574., 2578., 2595., 2610., 2613.,\n",
       "       2624., 2631., 2638., 2641., 2710., 2719.])"
      ]
     },
     "execution_count": 180,
     "metadata": {},
     "output_type": "execute_result"
    }
   ],
   "source": [
    "kmf.timeline"
   ]
  },
  {
   "cell_type": "code",
   "execution_count": 364,
   "metadata": {},
   "outputs": [
    {
     "data": {
      "image/png": "[encoded data removed]",
      "text/plain": [
       "<Figure size 864x288 with 2 Axes>"
      ]
     },
     "metadata": {
      "needs_background": "light"
     },
     "output_type": "display_data"
    }
   ],
   "source": [
    "fig, (ax1, ax2) = plt.subplots(1, 2, figsize=(12,4))\n",
    "sns.kdeplot(np.random.normal(0, 1, 100), ax=ax1, cumulative=True)\n",
    "sns.histplot(np.random.normal(0, 1, 100), ax=ax2, stat='probability', cumulative=True);"
   ]
  },
  {
   "cell_type": "code",
   "execution_count": 393,
   "metadata": {},
   "outputs": [
    {
     "name": "stdout",
     "output_type": "stream",
     "text": [
      "Float64Index([0.0, 6.0, 14.0, 21.0, 44.0, 62.0], dtype='float64', name='event_at')\n"
     ]
    }
   ],
   "source": [
    "tmp_df_ = tmp_df.copy()\n",
    "durations = tmp_df_['追跡日数']\n",
    "event_observed = tmp_df_['生存状態']\n",
    "n = len(durations)\n",
    "durations = np.asarray(durations).reshape((n,))\n",
    "event_observed = np.asarray(event_observed).reshape((n,)).astype(int)\n",
    "event_table_ = survival_table_from_events(tmp_df_['追跡日数'], event_observed=event_observed)\n",
    "print(event_table_.index)\n",
    "event_table_['event_at_10'] = pd.cut(event_table_.index, np.arange(0, 61, 10), right=False, include_lowest=True)\n",
    "event_table_ = event_table_.groupby('event_at_10').sum()\n",
    "event_table_['n'] = 5 - event_table_['removed'].shift(1, fill_value=0).cumsum()\n",
    "event_table_['(n-c/2-d)/(n-c/2)'] = (event_table_['n'] - event_table_['censored']/2 - event_table_['observed']) / (event_table_['n'] - event_table_['censored']/2)\n",
    "event_table_['S_t'] = event_table_['(n-c/2-d)/(n-c/2)'].cumprod()"
   ]
  },
  {
   "cell_type": "code",
   "execution_count": 394,
   "metadata": {},
   "outputs": [
    {
     "data": {
      "text/html": [
       "<div>\n",
       "<style scoped>\n",
       "    .dataframe tbody tr th:only-of-type {\n",
       "        vertical-align: middle;\n",
       "    }\n",
       "\n",
       "    .dataframe tbody tr th {\n",
       "        vertical-align: top;\n",
       "    }\n",
       "\n",
       "    .dataframe thead th {\n",
       "        text-align: right;\n",
       "    }\n",
       "</style>\n",
       "<table border=\"1\" class=\"dataframe\">\n",
       "  <thead>\n",
       "    <tr style=\"text-align: right;\">\n",
       "      <th></th>\n",
       "      <th>removed</th>\n",
       "      <th>observed</th>\n",
       "      <th>censored</th>\n",
       "      <th>entrance</th>\n",
       "      <th>at_risk</th>\n",
       "      <th>n</th>\n",
       "      <th>(n-c/2-d)/(n-c/2)</th>\n",
       "      <th>S_t</th>\n",
       "    </tr>\n",
       "    <tr>\n",
       "      <th>event_at_10</th>\n",
       "      <th></th>\n",
       "      <th></th>\n",
       "      <th></th>\n",
       "      <th></th>\n",
       "      <th></th>\n",
       "      <th></th>\n",
       "      <th></th>\n",
       "      <th></th>\n",
       "    </tr>\n",
       "  </thead>\n",
       "  <tbody>\n",
       "    <tr>\n",
       "      <th>[0, 10)</th>\n",
       "      <td>1</td>\n",
       "      <td>1</td>\n",
       "      <td>0</td>\n",
       "      <td>5</td>\n",
       "      <td>10</td>\n",
       "      <td>5</td>\n",
       "      <td>0.80</td>\n",
       "      <td>0.8</td>\n",
       "    </tr>\n",
       "    <tr>\n",
       "      <th>[10, 20)</th>\n",
       "      <td>1</td>\n",
       "      <td>1</td>\n",
       "      <td>0</td>\n",
       "      <td>0</td>\n",
       "      <td>4</td>\n",
       "      <td>4</td>\n",
       "      <td>0.75</td>\n",
       "      <td>0.6</td>\n",
       "    </tr>\n",
       "    <tr>\n",
       "      <th>[20, 30)</th>\n",
       "      <td>1</td>\n",
       "      <td>0</td>\n",
       "      <td>1</td>\n",
       "      <td>0</td>\n",
       "      <td>3</td>\n",
       "      <td>3</td>\n",
       "      <td>1.00</td>\n",
       "      <td>0.6</td>\n",
       "    </tr>\n",
       "    <tr>\n",
       "      <th>[30, 40)</th>\n",
       "      <td>0</td>\n",
       "      <td>0</td>\n",
       "      <td>0</td>\n",
       "      <td>0</td>\n",
       "      <td>0</td>\n",
       "      <td>2</td>\n",
       "      <td>1.00</td>\n",
       "      <td>0.6</td>\n",
       "    </tr>\n",
       "    <tr>\n",
       "      <th>[40, 50)</th>\n",
       "      <td>1</td>\n",
       "      <td>1</td>\n",
       "      <td>0</td>\n",
       "      <td>0</td>\n",
       "      <td>2</td>\n",
       "      <td>2</td>\n",
       "      <td>0.50</td>\n",
       "      <td>0.3</td>\n",
       "    </tr>\n",
       "    <tr>\n",
       "      <th>[50, 60)</th>\n",
       "      <td>0</td>\n",
       "      <td>0</td>\n",
       "      <td>0</td>\n",
       "      <td>0</td>\n",
       "      <td>0</td>\n",
       "      <td>1</td>\n",
       "      <td>1.00</td>\n",
       "      <td>0.3</td>\n",
       "    </tr>\n",
       "  </tbody>\n",
       "</table>\n",
       "</div>"
      ],
      "text/plain": [
       "             removed  observed  censored  entrance  at_risk  n  \\\n",
       "event_at_10                                                      \n",
       "[0, 10)            1         1         0         5       10  5   \n",
       "[10, 20)           1         1         0         0        4  4   \n",
       "[20, 30)           1         0         1         0        3  3   \n",
       "[30, 40)           0         0         0         0        0  2   \n",
       "[40, 50)           1         1         0         0        2  2   \n",
       "[50, 60)           0         0         0         0        0  1   \n",
       "\n",
       "             (n-c/2-d)/(n-c/2)  S_t  \n",
       "event_at_10                          \n",
       "[0, 10)                   0.80  0.8  \n",
       "[10, 20)                  0.75  0.6  \n",
       "[20, 30)                  1.00  0.6  \n",
       "[30, 40)                  1.00  0.6  \n",
       "[40, 50)                  0.50  0.3  \n",
       "[50, 60)                  1.00  0.3  "
      ]
     },
     "execution_count": 394,
     "metadata": {},
     "output_type": "execute_result"
    }
   ],
   "source": [
    "event_table_"
   ]
  },
  {
   "cell_type": "code",
   "execution_count": 395,
   "metadata": {},
   "outputs": [
    {
     "data": {
      "image/png": "[encoded data removed]",
      "text/plain": [
       "<Figure size 432x288 with 1 Axes>"
      ]
     },
     "metadata": {
      "needs_background": "light"
     },
     "output_type": "display_data"
    }
   ],
   "source": [
    "plt.xlabel('timeline(year)')\n",
    "plt.ylabel('$S(t)$')\n",
    "plt.ylim(0, 1.05)\n",
    "plt.step([0] + [i.right for i in event_table_.index], np.insert(event_table_['S_t'].values, 0, 1.0), label='LT_estimate', where='post',)\n",
    "plt.legend()\n",
    "plt.title('Survival function');"
   ]
  },
  {
   "cell_type": "code",
   "execution_count": null,
   "metadata": {},
   "outputs": [],
   "source": []
  }
 ],
 "metadata": {
  "kernelspec": {
   "display_name": "Python 3",
   "language": "python",
   "name": "python3"
  },
  "language_info": {
   "codemirror_mode": {
    "name": "ipython",
    "version": 3
   },
   "file_extension": ".py",
   "mimetype": "text/x-python",
   "name": "python",
   "nbconvert_exporter": "python",
   "pygments_lexer": "ipython3",
   "version": "3.8.3"
  }
 },
 "nbformat": 4,
 "nbformat_minor": 4
}
